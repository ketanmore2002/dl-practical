{
 "cells": [
  {
   "cell_type": "code",
   "execution_count": 32,
   "metadata": {},
   "outputs": [],
   "source": [
    "#Implementing regression using deep neural network.\n",
    "import numpy as np\n",
    "import tensorflow as tf\n",
    "from tensorflow.keras.models import Sequential\n",
    "from tensorflow.keras.layers import Dense\n",
    "from sklearn.datasets import fetch_california_housing\n",
    "from sklearn.model_selection import train_test_split\n",
    "from sklearn.preprocessing import StandardScaler\n",
    "import matplotlib.pyplot as plt"
   ]
  },
  {
   "cell_type": "code",
   "execution_count": 33,
   "metadata": {},
   "outputs": [],
   "source": [
    "# Load the Boston Housing dataset\n",
    "boston = fetch_california_housing()\n",
    "X, y = boston.data, boston.target"
   ]
  },
  {
   "cell_type": "code",
   "execution_count": 34,
   "metadata": {},
   "outputs": [],
   "source": [
    "# Standardize the features\n",
    "scaler = StandardScaler()\n",
    "X = scaler.fit_transform(X)"
   ]
  },
  {
   "cell_type": "code",
   "execution_count": 35,
   "metadata": {},
   "outputs": [],
   "source": [
    "# Split the data into training and test sets\n",
    "X_train, X_test, y_train, y_test = train_test_split(X, y, test_size=0.2, random_state=42)"
   ]
  },
  {
   "cell_type": "code",
   "execution_count": 36,
   "metadata": {},
   "outputs": [],
   "source": [
    "# Build the deep neural network model\n",
    "model = Sequential()\n",
    "model.add(Dense(64, input_shape=(X.shape[1],), activation='relu'))\n",
    "model.add(Dense(32, activation='relu'))\n",
    "model.add(Dense(1))  # Output layer with no activation for regression"
   ]
  },
  {
   "cell_type": "code",
   "execution_count": 37,
   "metadata": {},
   "outputs": [],
   "source": [
    "# Compile the model\n",
    "model.compile(optimizer='adam', loss='mean_squared_error')"
   ]
  },
  {
   "cell_type": "code",
   "execution_count": 38,
   "metadata": {},
   "outputs": [
    {
     "name": "stdout",
     "output_type": "stream",
     "text": [
      "Epoch 1/100\n",
      "465/465 [==============================] - 3s 6ms/step - loss: 1.0246 - val_loss: 0.4441\n",
      "Epoch 2/100\n",
      "465/465 [==============================] - 2s 4ms/step - loss: 0.3901 - val_loss: 0.4121\n",
      "Epoch 3/100\n",
      "465/465 [==============================] - 2s 4ms/step - loss: 0.4213 - val_loss: 0.3935\n",
      "Epoch 4/100\n",
      "465/465 [==============================] - 2s 4ms/step - loss: 0.3479 - val_loss: 0.3748\n",
      "Epoch 5/100\n",
      "465/465 [==============================] - 2s 4ms/step - loss: 0.3370 - val_loss: 0.3614\n",
      "Epoch 6/100\n",
      "465/465 [==============================] - 2s 4ms/step - loss: 0.3269 - val_loss: 0.3533\n",
      "Epoch 7/100\n",
      "465/465 [==============================] - 2s 4ms/step - loss: 0.3408 - val_loss: 0.3387\n",
      "Epoch 8/100\n",
      "465/465 [==============================] - 2s 4ms/step - loss: 0.3182 - val_loss: 0.3459\n",
      "Epoch 9/100\n",
      "465/465 [==============================] - 2s 4ms/step - loss: 0.3783 - val_loss: 0.3553\n",
      "Epoch 10/100\n",
      "465/465 [==============================] - 2s 4ms/step - loss: 0.3291 - val_loss: 0.3334\n",
      "Epoch 11/100\n",
      "465/465 [==============================] - 2s 4ms/step - loss: 0.3037 - val_loss: 0.3266\n",
      "Epoch 12/100\n",
      "465/465 [==============================] - 2s 4ms/step - loss: 0.2934 - val_loss: 0.3276\n",
      "Epoch 13/100\n",
      "465/465 [==============================] - 2s 4ms/step - loss: 0.2953 - val_loss: 0.3297\n",
      "Epoch 14/100\n",
      "465/465 [==============================] - 2s 4ms/step - loss: 0.3275 - val_loss: 0.3262\n",
      "Epoch 15/100\n",
      "465/465 [==============================] - 2s 4ms/step - loss: 0.2900 - val_loss: 0.3147\n",
      "Epoch 16/100\n",
      "465/465 [==============================] - 2s 4ms/step - loss: 0.2908 - val_loss: 0.3148\n",
      "Epoch 17/100\n",
      "465/465 [==============================] - 2s 4ms/step - loss: 0.2850 - val_loss: 0.3211\n",
      "Epoch 18/100\n",
      "465/465 [==============================] - 2s 4ms/step - loss: 0.2977 - val_loss: 0.3129\n",
      "Epoch 19/100\n",
      "465/465 [==============================] - 2s 4ms/step - loss: 0.3025 - val_loss: 0.3242\n",
      "Epoch 20/100\n",
      "465/465 [==============================] - 2s 4ms/step - loss: 0.2809 - val_loss: 0.3123\n",
      "Epoch 21/100\n",
      "465/465 [==============================] - 2s 4ms/step - loss: 0.2876 - val_loss: 0.3106\n",
      "Epoch 22/100\n",
      "465/465 [==============================] - 2s 4ms/step - loss: 0.2785 - val_loss: 0.3052\n",
      "Epoch 23/100\n",
      "465/465 [==============================] - 2s 4ms/step - loss: 0.2799 - val_loss: 0.3100\n",
      "Epoch 24/100\n",
      "465/465 [==============================] - 2s 4ms/step - loss: 0.2866 - val_loss: 0.3246\n",
      "Epoch 25/100\n",
      "465/465 [==============================] - 2s 4ms/step - loss: 0.2787 - val_loss: 0.3105\n",
      "Epoch 26/100\n",
      "465/465 [==============================] - 2s 4ms/step - loss: 0.3415 - val_loss: 0.3088\n",
      "Epoch 27/100\n",
      "465/465 [==============================] - 2s 4ms/step - loss: 0.2724 - val_loss: 0.3112\n",
      "Epoch 28/100\n",
      "465/465 [==============================] - 2s 4ms/step - loss: 0.2716 - val_loss: 0.2992\n",
      "Epoch 29/100\n",
      "465/465 [==============================] - 2s 4ms/step - loss: 0.2700 - val_loss: 0.3100\n",
      "Epoch 30/100\n",
      "465/465 [==============================] - 2s 4ms/step - loss: 0.2730 - val_loss: 0.3036\n",
      "Epoch 31/100\n",
      "465/465 [==============================] - 2s 4ms/step - loss: 0.2680 - val_loss: 0.3101\n",
      "Epoch 32/100\n",
      "465/465 [==============================] - 2s 4ms/step - loss: 0.2704 - val_loss: 0.3032\n",
      "Epoch 33/100\n",
      "465/465 [==============================] - 2s 4ms/step - loss: 0.2699 - val_loss: 0.2996\n",
      "Epoch 34/100\n",
      "465/465 [==============================] - 2s 4ms/step - loss: 0.2974 - val_loss: 0.2981\n",
      "Epoch 35/100\n",
      "465/465 [==============================] - 2s 4ms/step - loss: 0.2643 - val_loss: 0.3181\n",
      "Epoch 36/100\n",
      "465/465 [==============================] - 2s 4ms/step - loss: 0.2635 - val_loss: 0.3160\n",
      "Epoch 37/100\n",
      "465/465 [==============================] - 2s 4ms/step - loss: 0.2642 - val_loss: 0.2930\n",
      "Epoch 38/100\n",
      "465/465 [==============================] - 2s 4ms/step - loss: 0.2642 - val_loss: 0.2983\n",
      "Epoch 39/100\n",
      "465/465 [==============================] - 2s 4ms/step - loss: 0.2619 - val_loss: 0.3072\n",
      "Epoch 40/100\n",
      "465/465 [==============================] - 2s 4ms/step - loss: 0.2619 - val_loss: 0.2969\n",
      "Epoch 41/100\n",
      "465/465 [==============================] - 2s 4ms/step - loss: 0.2622 - val_loss: 0.3026\n",
      "Epoch 42/100\n",
      "465/465 [==============================] - 2s 4ms/step - loss: 0.2581 - val_loss: 0.2962\n",
      "Epoch 43/100\n",
      "465/465 [==============================] - 2s 4ms/step - loss: 0.2824 - val_loss: 0.2956\n",
      "Epoch 44/100\n",
      "465/465 [==============================] - 2s 4ms/step - loss: 0.2575 - val_loss: 0.3006\n",
      "Epoch 45/100\n",
      "465/465 [==============================] - 2s 4ms/step - loss: 0.2548 - val_loss: 0.2833\n",
      "Epoch 46/100\n",
      "465/465 [==============================] - 2s 4ms/step - loss: 0.2565 - val_loss: 0.2923\n",
      "Epoch 47/100\n",
      "465/465 [==============================] - 2s 4ms/step - loss: 0.2556 - val_loss: 0.3008\n",
      "Epoch 48/100\n",
      "465/465 [==============================] - 2s 4ms/step - loss: 0.2539 - val_loss: 0.2926\n",
      "Epoch 49/100\n",
      "465/465 [==============================] - 2s 4ms/step - loss: 0.2538 - val_loss: 0.2906\n",
      "Epoch 50/100\n",
      "465/465 [==============================] - 2s 4ms/step - loss: 0.2621 - val_loss: 0.2986\n",
      "Epoch 51/100\n",
      "465/465 [==============================] - 2s 4ms/step - loss: 0.2529 - val_loss: 0.2870\n",
      "Epoch 52/100\n",
      "465/465 [==============================] - 2s 4ms/step - loss: 0.2534 - val_loss: 0.2976\n",
      "Epoch 53/100\n",
      "465/465 [==============================] - 2s 4ms/step - loss: 0.2501 - val_loss: 0.2843\n",
      "Epoch 54/100\n",
      "465/465 [==============================] - 2s 4ms/step - loss: 0.2502 - val_loss: 0.2918\n",
      "Epoch 55/100\n",
      "465/465 [==============================] - 2s 4ms/step - loss: 0.2522 - val_loss: 0.2916\n",
      "Epoch 56/100\n",
      "465/465 [==============================] - 2s 4ms/step - loss: 0.2508 - val_loss: 0.2912\n",
      "Epoch 57/100\n",
      "465/465 [==============================] - 2s 4ms/step - loss: 0.2488 - val_loss: 0.2863\n",
      "Epoch 58/100\n",
      "465/465 [==============================] - 2s 4ms/step - loss: 0.2483 - val_loss: 0.2782\n",
      "Epoch 59/100\n",
      "465/465 [==============================] - 2s 4ms/step - loss: 0.2494 - val_loss: 0.2846\n",
      "Epoch 60/100\n",
      "465/465 [==============================] - 2s 4ms/step - loss: 0.2468 - val_loss: 0.3019\n",
      "Epoch 61/100\n",
      "465/465 [==============================] - 2s 4ms/step - loss: 0.2468 - val_loss: 0.2862\n",
      "Epoch 62/100\n",
      "465/465 [==============================] - 2s 4ms/step - loss: 0.2451 - val_loss: 0.2951\n",
      "Epoch 63/100\n",
      "465/465 [==============================] - 2s 4ms/step - loss: 0.2460 - val_loss: 0.2804\n",
      "Epoch 64/100\n",
      "465/465 [==============================] - 2s 4ms/step - loss: 0.2430 - val_loss: 0.2798\n",
      "Epoch 65/100\n",
      "465/465 [==============================] - 2s 4ms/step - loss: 0.2442 - val_loss: 0.2844\n",
      "Epoch 66/100\n",
      "465/465 [==============================] - 2s 4ms/step - loss: 0.2435 - val_loss: 0.2967\n",
      "Epoch 67/100\n",
      "465/465 [==============================] - 2s 4ms/step - loss: 0.2445 - val_loss: 0.2914\n",
      "Epoch 68/100\n",
      "465/465 [==============================] - 2s 4ms/step - loss: 0.2415 - val_loss: 0.2789\n",
      "Epoch 69/100\n",
      "465/465 [==============================] - 2s 4ms/step - loss: 0.2420 - val_loss: 0.2883\n",
      "Epoch 70/100\n",
      "465/465 [==============================] - 2s 4ms/step - loss: 0.2429 - val_loss: 0.2917\n",
      "Epoch 71/100\n",
      "465/465 [==============================] - 2s 4ms/step - loss: 0.2418 - val_loss: 0.2871\n",
      "Epoch 72/100\n",
      "465/465 [==============================] - 2s 4ms/step - loss: 0.2389 - val_loss: 0.2833\n",
      "Epoch 73/100\n",
      "465/465 [==============================] - 2s 4ms/step - loss: 0.2407 - val_loss: 0.2963\n",
      "Epoch 74/100\n",
      "465/465 [==============================] - 2s 4ms/step - loss: 0.2430 - val_loss: 0.2829\n",
      "Epoch 75/100\n",
      "465/465 [==============================] - 2s 4ms/step - loss: 0.2381 - val_loss: 0.2859\n",
      "Epoch 76/100\n",
      "465/465 [==============================] - 2s 4ms/step - loss: 0.2391 - val_loss: 0.2828\n",
      "Epoch 77/100\n",
      "465/465 [==============================] - 2s 4ms/step - loss: 0.2378 - val_loss: 0.2866\n",
      "Epoch 78/100\n",
      "465/465 [==============================] - 2s 4ms/step - loss: 0.2378 - val_loss: 0.3004\n",
      "Epoch 79/100\n",
      "465/465 [==============================] - 2s 4ms/step - loss: 0.2384 - val_loss: 0.3024\n",
      "Epoch 80/100\n",
      "465/465 [==============================] - 2s 4ms/step - loss: 0.2380 - val_loss: 0.3187\n",
      "Epoch 81/100\n",
      "465/465 [==============================] - 2s 4ms/step - loss: 0.2363 - val_loss: 0.2790\n",
      "Epoch 82/100\n",
      "465/465 [==============================] - 2s 4ms/step - loss: 0.2360 - val_loss: 0.2893\n",
      "Epoch 83/100\n",
      "465/465 [==============================] - 2s 4ms/step - loss: 0.2357 - val_loss: 0.2833\n",
      "Epoch 84/100\n",
      "465/465 [==============================] - 2s 4ms/step - loss: 0.2359 - val_loss: 0.2799\n",
      "Epoch 85/100\n",
      "465/465 [==============================] - 2s 4ms/step - loss: 0.2344 - val_loss: 0.2812\n",
      "Epoch 86/100\n",
      "465/465 [==============================] - 2s 4ms/step - loss: 0.2331 - val_loss: 0.2870\n",
      "Epoch 87/100\n",
      "465/465 [==============================] - 2s 4ms/step - loss: 0.2357 - val_loss: 0.2841\n",
      "Epoch 88/100\n",
      "465/465 [==============================] - 2s 4ms/step - loss: 0.2338 - val_loss: 0.2910\n",
      "Epoch 89/100\n",
      "465/465 [==============================] - 2s 4ms/step - loss: 0.2348 - val_loss: 0.2779\n",
      "Epoch 90/100\n",
      "465/465 [==============================] - 2s 4ms/step - loss: 0.2324 - val_loss: 0.2891\n",
      "Epoch 91/100\n",
      "465/465 [==============================] - 2s 4ms/step - loss: 0.2341 - val_loss: 0.2827\n",
      "Epoch 92/100\n",
      "465/465 [==============================] - 2s 4ms/step - loss: 0.2330 - val_loss: 0.2904\n",
      "Epoch 93/100\n",
      "465/465 [==============================] - 2s 4ms/step - loss: 0.2317 - val_loss: 0.2775\n",
      "Epoch 94/100\n",
      "465/465 [==============================] - 2s 4ms/step - loss: 0.2333 - val_loss: 0.2886\n",
      "Epoch 95/100\n",
      "465/465 [==============================] - 2s 4ms/step - loss: 0.2314 - val_loss: 0.2825\n",
      "Epoch 96/100\n",
      "465/465 [==============================] - 2s 4ms/step - loss: 0.2315 - val_loss: 0.2856\n",
      "Epoch 97/100\n",
      "465/465 [==============================] - 2s 4ms/step - loss: 0.2306 - val_loss: 0.2812\n",
      "Epoch 98/100\n",
      "465/465 [==============================] - 2s 4ms/step - loss: 0.2313 - val_loss: 0.2862\n",
      "Epoch 99/100\n",
      "465/465 [==============================] - 2s 4ms/step - loss: 0.2307 - val_loss: 0.2829\n",
      "Epoch 100/100\n",
      "465/465 [==============================] - 2s 4ms/step - loss: 0.2283 - val_loss: 0.2808\n"
     ]
    }
   ],
   "source": [
    "# Train the model\n",
    "epochs = 100\n",
    "batch_size = 32\n",
    "history = model.fit(X_train, y_train, batch_size=batch_size, epochs=epochs, validation_split=0.1)"
   ]
  },
  {
   "cell_type": "code",
   "execution_count": 39,
   "metadata": {},
   "outputs": [
    {
     "name": "stdout",
     "output_type": "stream",
     "text": [
      "Test Loss: 0.2752\n"
     ]
    }
   ],
   "source": [
    "# Evaluate the model on the test set\n",
    "test_loss = model.evaluate(X_test, y_test, verbose=0)\n",
    "print(f'Test Loss: {test_loss:.4f}')"
   ]
  },
  {
   "cell_type": "code",
   "execution_count": 40,
   "metadata": {},
   "outputs": [
    {
     "data": {
      "image/png": "[encoded data removed]",
      "text/plain": [
       "<Figure size 640x480 with 1 Axes>"
      ]
     },
     "metadata": {},
     "output_type": "display_data"
    }
   ],
   "source": [
    "# Plot the training and validation loss\n",
    "plt.plot(history.history['loss'], label='Training Loss')\n",
    "plt.plot(history.history['val_loss'], label='Validation Loss')\n",
    "plt.xlabel('Epoch')\n",
    "plt.ylabel('Mean Squared Error')\n",
    "plt.legend()\n",
    "plt.show()"
   ]
  },
  {
   "cell_type": "code",
   "execution_count": 41,
   "metadata": {},
   "outputs": [
    {
     "name": "stdout",
     "output_type": "stream",
     "text": [
      "1/1 [==============================] - 0s 93ms/step\n"
     ]
    }
   ],
   "source": [
    "# Make predictions on new data\n",
    "X_new = np.array(X_test[:3])  # Use the first 3 samples from the test set\n",
    "predictions = model.predict(X_new)"
   ]
  },
  {
   "cell_type": "code",
   "execution_count": 42,
   "metadata": {},
   "outputs": [
    {
     "name": "stdout",
     "output_type": "stream",
     "text": [
      "Predictions:\n",
      "Sample 1: Actual Value: 0.477, Predicted Value: 0.53\n",
      "Sample 2: Actual Value: 0.458, Predicted Value: 1.27\n",
      "Sample 3: Actual Value: 5.00001, Predicted Value: 4.99\n"
     ]
    }
   ],
   "source": [
    "# Print the predictions\n",
    "print(\"Predictions:\")\n",
    "for i in range(len(predictions)):\n",
    "    print(f\"Sample {i + 1}: Actual Value: {y_test[i]}, Predicted Value: {predictions[i][0]:.2f}\")"
   ]
  }
 ],
 "metadata": {
  "kernelspec": {
   "display_name": "base",
   "language": "python",
   "name": "python3"
  },
  "language_info": {
   "codemirror_mode": {
    "name": "ipython",
    "version": 3
   },
   "file_extension": ".py",
   "mimetype": "text/x-python",
   "name": "python",
   "nbconvert_exporter": "python",
   "pygments_lexer": "ipython3",
   "version": "3.10.9"
  },
  "orig_nbformat": 4
 },
 "nbformat": 4,
 "nbformat_minor": 2
}
